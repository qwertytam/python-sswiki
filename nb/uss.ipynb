{
 "cells": [
  {
   "cell_type": "code",
   "execution_count": 6,
   "metadata": {},
   "outputs": [],
   "source": [
    "import matplotlib.pyplot as plt\n",
    "import numpy as np\n",
    "import pandas as pd\n",
    "import seaborn as sns\n",
    "\n",
    "DATA_DIR = '../data/'\n",
    "\n",
    "gc = pd.read_csv(DATA_DIR + 'gc_data.csv', low_memory=False)\n",
    "sh = pd.read_csv(DATA_DIR + 'sh_data.csv', low_memory=False)"
   ]
  }
 ],
 "metadata": {
  "kernelspec": {
   "display_name": "Python 3.9.14 ('sswiki-Y_EGKolJ')",
   "language": "python",
   "name": "python3"
  },
  "language_info": {
   "codemirror_mode": {
    "name": "ipython",
    "version": 3
   },
   "file_extension": ".py",
   "mimetype": "text/x-python",
   "name": "python",
   "nbconvert_exporter": "python",
   "pygments_lexer": "ipython3",
   "version": "3.9.14"
  },
  "orig_nbformat": 4,
  "vscode": {
   "interpreter": {
    "hash": "aeaeb81892e0c342c0c3349d0ebd259a6444d4ebfac2419bbfc9bda0f57cf12c"
   }
  }
 },
 "nbformat": 4,
 "nbformat_minor": 2
}
